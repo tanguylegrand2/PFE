{
 "cells": [
  {
   "cell_type": "code",
   "execution_count": 5,
   "metadata": {},
   "outputs": [],
   "source": [
    "#Import du script de comparaison\n",
    "from Comparison_scripts.monte_carlo_compare import run_comparison\n",
    "# from Comparison_scripts.monte_carlo_compare import run_dl_model_comparison\n",
    "from Signal_generator.generate_signal import *\n",
    "import torch.nn.functional as F\n",
    "from Algorithmes.music import estimate_angles\n",
    "import numpy as np\n",
    "import torch.nn as nn\n",
    "from Plots.draw_plot import plot_single_music\n",
    "import random\n",
    "import torch"
   ]
  },
  {
   "cell_type": "code",
   "execution_count": 6,
   "metadata": {},
   "outputs": [],
   "source": [
    "np.random.seed(42)\n",
    "random.seed(42)\n",
    "torch.manual_seed(42)\n",
    "if torch.cuda.is_available():  \n",
    "    torch.cuda.manual_seed_all(42)"
   ]
  },
  {
   "cell_type": "code",
   "execution_count": 3,
   "metadata": {},
   "outputs": [],
   "source": [
    "from Models.compare import *\n",
    "Q = 8\n",
    "N = 2**12\n",
    "#models_deep_music1 = load_deep_music(\"DeepMusic_subregion_1\", model_class=DeepMusicModel, outputs=[121])\n",
    "models_deep_music2 = load_deep_music(\"DeepMusic_subregion_1\", model_class=DeepMusicModel, outputs=[512 for _ in range(8)])"
   ]
  },
  {
   "cell_type": "code",
   "execution_count": 8,
   "metadata": {},
   "outputs": [],
   "source": [
    "# Fonction pour reconstruire le spectre à partir des Q réseaux de neurones\n",
    "def reconstruct_music_spectrum(segments, Q, N):\n",
    "    \"\"\"\n",
    "    Reconstruct the full music spectrum from its segmented parts.\n",
    "\n",
    "    Args:\n",
    "    segments (list of ndarrays): The segmented parts of the music spectrum.\n",
    "    Q (int): The number of segments.\n",
    "    N (int): The total number of points in the full music spectrum.\n",
    "\n",
    "    Returns:\n",
    "    ndarray: The reconstructed music spectrum.\n",
    "    \"\"\"\n",
    "    # Initialize the reconstructed spectrum with zeros\n",
    "    reconstructed_spectrum = np.zeros(N, dtype=float)\n",
    "    \n",
    "    # Length of each segment\n",
    "    segment_length = N // Q\n",
    "\n",
    "    \n",
    "    # Iterate over each segment and place it in the reconstructed spectrum\n",
    "    for q, segment in enumerate(segments):\n",
    "        start_index = q * segment_length\n",
    "        if q < Q - 1:\n",
    "            # For all but the last segment, use the segment length\n",
    "            end_index = start_index + segment_length\n",
    "        else:\n",
    "            # For the last segment, it can be longer if N is not divisible by Q\n",
    "            end_index = N\n",
    "        # Make sure segment is the correct shape\n",
    "        segment = segment[:end_index - start_index]\n",
    "        reconstructed_spectrum[start_index:end_index] = segment\n",
    "    \n",
    "    return reconstructed_spectrum\n",
    "\n",
    "#Fonction pour prédire l'angle\n",
    "def deep_music_pred_2(X, nbSensors, nbSources,Q, N):\n",
    "    input_tensor = torch.tensor(generate_R_hat_with_phase(X), dtype=torch.float32).unsqueeze(0)\n",
    "    for i in range(0,Q-1):\n",
    "        models_deep_music2[0][i].eval()\n",
    "    with torch.no_grad():\n",
    "        a = []\n",
    "        for q in range(0,Q):\n",
    "            qi = models_deep_music2[0][q](input_tensor).numpy()[0]\n",
    "            a.append(qi)\n",
    "        # Estimer les angles à partir du spectre MUSIC\n",
    "        b = reconstruct_music_spectrum(a, Q, N)\n",
    "        estimated_angles = estimate_angles(nbSources, b, np.linspace(-60, 60, N))\n",
    "    \n",
    "    return estimated_angles\n",
    "\n",
    "#Fonction pour donner le spectre prédit \n",
    "def deep_music_pred_c(X, nbSensors, nbSources,Q, N):\n",
    "    input_tensor = torch.tensor(generate_R_hat_with_phase(X), dtype=torch.float32).unsqueeze(0)\n",
    "    for i in range(0,Q-1):\n",
    "        models_deep_music2[0][i].eval()\n",
    "    with torch.no_grad():\n",
    "        a = []\n",
    "        for q in range(0,Q):\n",
    "            qi = models_deep_music2[0][q](input_tensor).numpy()[0]\n",
    "            a.append(qi)\n",
    "        # Estimer les angles à partir du spectre MUSIC\n",
    "        b = reconstruct_music_spectrum(a, Q, N)\n",
    "        estimated_angles = estimate_angles(nbSources, b, np.linspace(-60, 60, N))\n",
    "    \n",
    "    return a\n",
    "\n",
    "def deep_music_pred_single_c(X, nbSensors, nbSources,Q, N, p):\n",
    "    input_tensor = torch.tensor(generate_R_hat_with_phase(X), dtype=torch.float32).unsqueeze(0)\n",
    "    models_deep_music2[0][p].eval()\n",
    "    with torch.no_grad():\n",
    "        qp = models_deep_music2[0][p](input_tensor).detach().cpu().numpy()\n",
    "        # Estimer les angles à partir du spectre MUSIC\n",
    "        estimated_angles = estimate_angles(nbSources, qp, np.linspace(-60, 60, N//Q))\n",
    "    return a"
   ]
  },
  {
   "cell_type": "code",
   "execution_count": 120,
   "metadata": {},
   "outputs": [],
   "source": [
    "# Algorithmes à importer\n",
    "from Algorithmes.beamforming import beamforming_method\n",
    "from Algorithmes.music import music_method"
   ]
  },
  {
   "cell_type": "code",
   "execution_count": 121,
   "metadata": {},
   "outputs": [],
   "source": [
    "# Appel des algorithmes à comparer. clé: nom de l'algorithme, valeur: fonction de l'algorithme\n",
    "# La fonction doit prendre en entrée les paramètres suivants: X, nbSensors, nbSources\n",
    "# La fonction doit donner en sortie une liste de la forme [angleEstime1, angleEstime2] rangée dans l'ordre croissant\n",
    "algorithms_to_compare = {\n",
    "    \"Beamforming\": beamforming_method,\n",
    "    \"DeepMusic_subregions_2\": deep_music_pred_2\n",
    "}\n",
    "\n"
   ]
  },
  {
   "cell_type": "code",
   "execution_count": 122,
   "metadata": {},
   "outputs": [],
   "source": [
    "nb_iterations = 100 # Nombre d'itérations de Monte Carlo pour chaque algorithme\n",
    "nbSources = 2\n",
    "nbSensors = 9\n",
    "theta = [-20, 20] # Les deux angles d'origine des sources\n",
    "two_symmetrical_angles = True # Si True, on a deux angles symétriques par rapport à 0.\n",
    "# Favoriser de angles symmétriques : cela aura un effet similaire à doubler nb_itération sans doubler le temps de calcul"
   ]
  },
  {
   "cell_type": "code",
   "execution_count": 76,
   "metadata": {},
   "outputs": [],
   "source": [
    "# Valeurs neutres pour les 5 paramètres à slider:\n",
    "# nbTimePoints = 100\n",
    "# var_ratio = [1] -> les deux signaux ont la même variance\n",
    "# correlation = [0] -> les deux signaux sont indépendants\n",
    "# snr = 10 -> le bruit est 10 fois plus petit que le signal\n",
    "# perturbation_parameter_sd = 0 -> les capteurs sont parfaitement alignés"
   ]
  },
  {
   "cell_type": "code",
   "execution_count": 77,
   "metadata": {},
   "outputs": [],
   "source": [
    "# Exemples de ranges intéressantes pour les paramètres à slider:\n",
    "# var_ratio = [[1], [10], [50]]\n",
    "# correlation = [[0], [0.9], [0.95], [0.99]]\n",
    "# snr = [-10, -5, 0, 5, 10, 20]\n",
    "# perturbation_parameter_sd = [0, 0.01, 0.1]"
   ]
  },
  {
   "cell_type": "code",
   "execution_count": 78,
   "metadata": {},
   "outputs": [],
   "source": [
    "# IMPORTANT : le paramètre défini en temps que parameter_to_compare doit être sous forme d'une liste de valeurs. Exemples dans la cellule au dessus.\n",
    "# Pour var_ratio et correlation, faites attention à bien avoir une liste de liste de réels s'ils sont en parameter_to_compare, et une liste de réels sinon.\n",
    "nbTimePoints = 100\n",
    "var_ratio = [1]\n",
    "correlation = [0]\n",
    "snr = [-10, 0, 10, 20]\n",
    "perturbation_parameter_sd = 0"
   ]
  },
  {
   "cell_type": "code",
   "execution_count": null,
   "metadata": {},
   "outputs": [],
   "source": [
    "# Les parameter_to_compare valides sont: \"snr\", \"nbTimePoints\", \"correlation\", \"var_ratio\" et \"perturbation_parameter_sd\"\n",
    "parameter_to_compare = \"snr\" # Paramètre à faire slider"
   ]
  },
  {
   "cell_type": "code",
   "execution_count": null,
   "metadata": {},
   "outputs": [],
   "source": [
    "import torch.nn.functional as F\n",
    "\n",
    "run_comparison(parameter_to_compare, algorithms_to_compare, nb_iterations, nbSources, nbSensors, theta, nbTimePoints, snr, correlation, var_ratio, perturbation_parameter_sd, two_symmetrical_angles)"
   ]
  },
  {
   "cell_type": "code",
   "execution_count": 12,
   "metadata": {},
   "outputs": [
    {
     "name": "stdout",
     "output_type": "stream",
     "text": [
      "DeepMusic_subregions_2 : [-44.76190476  43.2967033 ]\n"
     ]
    }
   ],
   "source": [
    "from Signal_generator.generate_signal import generate_X_matrix\n",
    "from Signal_generator.generate_signal import generate_R_hat_with_phase\n",
    "\n",
    "nbSources = 2 # Nombre de sources\n",
    "nbSensors = 9 # Nombre de capteurs\n",
    "nbTimePoints = 100 # Nombre de points temporels\n",
    "signal_noise_ratio = 10 # Rapport signal sur bruit en décibels. Si 'False', cela revient à une absence totale de bruit.\n",
    "theta1 = -10 # Angle entre la perpendiculaire à la ligne de capteurs, et la source 1\n",
    "theta2 = 10 # Angle entre la perpendiculaire à la ligne de capteurs, et la source 2\n",
    "var_ratio = [1] # Liste qui donne le rapport entre la variance du signal 1 et celui des autres sources (ex: [2, 3] signifie que la source 2 a une variance 2 fois plus grande que la source 1, et la source 3 a une variance 3 fois plus grande que la source 1)\n",
    "correlation_List = [0] # Liste des corrélations. Il y a une corrélation nécéssaire pour chaque paire distincte de sources différentes: 0 pour 1 source, 1 pour 2 sources, 3 pour 3 sources, 6 pour 4 sources etc...\n",
    "# Ordre de remplisage de la correlation_List: de gauche à droite et ligne par ligne, moitié haut-droite de la matrice uniquement, puis symétrie de ces valeurs pour la moitié bas-gauche\n",
    "perturbation_parameter_sd = 0 # Écart-type de la distribution normale qui génère les erreurs de calibration des capteurs\n",
    "\n",
    "thetaList = [theta1,theta2]\n",
    "X = generate_X_matrix(nbSources, nbSensors, nbTimePoints, thetaList, var_ratio, correlation_List, signal_noise_ratio, perturbation_parameter_sd)\n",
    "print(\"DeepMusic_subregions_2 :\", deep_music_pred_2(generate_X_matrix(nbSources, nbSensors, nbTimePoints, thetaList, var_ratio, correlation_List, signal_noise_ratio, perturbation_parameter_sd), nbSensors, nbSources, Q, N))"
   ]
  },
  {
   "cell_type": "code",
   "execution_count": 15,
   "metadata": {},
   "outputs": [
    {
     "name": "stdout",
     "output_type": "stream",
     "text": [
      "[-1,1]: [-48.16117216   1.3040293 ]\n",
      "[-2,2]: [-48.16117216   1.3040293 ]\n",
      "[-3,3]: [-48.16117216   1.3040293 ]\n",
      "[-4,4]: [ 1.3040293 43.2967033]\n",
      "[-5,5]: [-44.76190476  43.2967033 ]\n",
      "[-6,6]: [-44.76190476  43.2967033 ]\n",
      "[-7,7]: [-44.76190476  43.2967033 ]\n",
      "[-8,8]: [-44.76190476  43.2967033 ]\n",
      "[-9,9]: [-44.76190476  43.2967033 ]\n",
      "[-10,10]: [-44.76190476  43.2967033 ]\n",
      "[-11,11]: [-44.76190476  43.2967033 ]\n",
      "[-12,12]: [-44.76190476  43.2967033 ]\n",
      "[-13,13]: [-44.76190476  43.2967033 ]\n",
      "[-14,14]: [-44.76190476  43.2967033 ]\n",
      "[-15,15]: [-44.76190476  43.2967033 ]\n",
      "[-16,16]: [-55.63369963 -44.76190476]\n",
      "[-17,17]: [-55.63369963 -44.76190476]\n",
      "[-18,18]: [-55.63369963 -44.76190476]\n",
      "[-19,19]: [-55.63369963 -44.76190476]\n",
      "[-20,20]: [-55.63369963 -44.76190476]\n",
      "[-21,21]: [-55.63369963 -44.76190476]\n",
      "[-22,22]: [-55.63369963 -44.76190476]\n",
      "[-23,23]: [-51.003663   -44.76190476]\n",
      "[-24,24]: [-51.003663   -44.76190476]\n",
      "[-25,25]: [-51.003663   -44.76190476]\n",
      "[-26,26]: [-51.003663   -44.76190476]\n",
      "[-27,27]: [-55.63369963 -44.76190476]\n",
      "[-28,28]: [-51.003663   -44.76190476]\n",
      "[-29,29]: [-51.003663   -44.76190476]\n"
     ]
    }
   ],
   "source": [
    "for i in range(1,30):\n",
    "    thetaList = [-i,i]\n",
    "    X = generate_X_matrix(nbSources, nbSensors, nbTimePoints, thetaList, var_ratio, correlation_List, signal_noise_ratio, perturbation_parameter_sd)\n",
    "    print(\"[{},{}]:\".format(-i,i), deep_music_pred_2(generate_X_matrix(nbSources, nbSensors, nbTimePoints, thetaList, var_ratio, correlation_List, signal_noise_ratio, perturbation_parameter_sd), nbSensors, nbSources, Q, N))"
   ]
  },
  {
   "cell_type": "code",
   "execution_count": 13,
   "metadata": {},
   "outputs": [
    {
     "data": {
      "image/png": "[encoded data removed]",
      "text/plain": [
       "<Figure size 1000x600 with 1 Axes>"
      ]
     },
     "metadata": {},
     "output_type": "display_data"
    }
   ],
   "source": [
    "from Algorithmes.music import music_method\n",
    "spectre_c = deep_music_pred_c(X=generate_X_matrix(nbSources, nbSensors, nbTimePoints, thetaList, var_ratio, correlation_List, signal_noise_ratio, perturbation_parameter_sd),nbSensors=nbSensors,nbSources=nbSources,Q=Q,N=N)\n",
    "plot_single_music(spectre_c[0], np.linspace(-60,60,N))"
   ]
  }
 ],
 "metadata": {
  "kernelspec": {
   "display_name": "Python 3",
   "language": "python",
   "name": "python3"
  },
  "language_info": {
   "codemirror_mode": {
    "name": "ipython",
    "version": 3
   },
   "file_extension": ".py",
   "mimetype": "text/x-python",
   "name": "python",
   "nbconvert_exporter": "python",
   "pygments_lexer": "ipython3",
   "version": "3.11.8"
  }
 },
 "nbformat": 4,
 "nbformat_minor": 2
}
