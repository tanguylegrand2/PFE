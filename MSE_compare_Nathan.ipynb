{
 "cells": [
  {
   "cell_type": "code",
   "execution_count": 1,
   "metadata": {},
   "outputs": [],
   "source": [
    "#Import du script de comparaison\n",
    "from Comparison_scripts.monte_carlo_compare import run_comparison\n",
    "from Comparison_scripts.monte_carlo_compare import run_dl_model_comparison\n",
    "from Signal_generator.generate_signal import *\n",
    "import torch.nn.functional as F\n",
    "from Algorithmes.music import estimate_angles\n",
    "import numpy as np\n",
    "import torch.nn as nn\n"
   ]
  },
  {
   "cell_type": "code",
   "execution_count": 2,
   "metadata": {},
   "outputs": [],
   "source": [
    "class DeepMusicModel(nn.Module):\n",
    "    def __init__(self, output_size):\n",
    "        super(DeepMusicModel, self).__init__()\n",
    "        # Define the first convolutional layer\n",
    "        self.conv1 = nn.Conv2d(in_channels=3, out_channels=256, kernel_size=5, padding=2)\n",
    "        self.bn1 = nn.BatchNorm2d(num_features=256)\n",
    "        \n",
    "        # Define the second convolutional layer\n",
    "        self.conv2 = nn.Conv2d(in_channels=256, out_channels=256, kernel_size=5, padding=2)\n",
    "        self.bn2 = nn.BatchNorm2d(num_features=256)\n",
    "        \n",
    "        # Define the third convolutional layer\n",
    "        self.conv3 = nn.Conv2d(in_channels=256, out_channels=256, kernel_size=3, padding=1)\n",
    "        self.bn3 = nn.BatchNorm2d(num_features=256)\n",
    "        \n",
    "        # Define the fourth convolutional layer\n",
    "        self.conv4 = nn.Conv2d(in_channels=256, out_channels=256, kernel_size=3, padding=1)\n",
    "        self.bn4 = nn.BatchNorm2d(num_features=256)\n",
    "        \n",
    "        # Assuming the spatial dimensions (height and width) are reduced to 1x1 after the convolutions\n",
    "        # Define the fully connected layers\n",
    "        self.fc1 = nn.Linear(in_features=20736, out_features=output_size)\n",
    "        \n",
    "        # Dropout layer\n",
    "        self.dropout = nn.Dropout(p=0.5)\n",
    "\n",
    "        # Softmax layer \n",
    "        self.softmax = nn.Softmax(dim=1)\n",
    "\n",
    "    def forward(self, x):\n",
    "        # Apply the first convolutional layer and normalization, followed by ReLU\n",
    "        x = F.relu(self.bn1(self.conv1(x)))\n",
    "        \n",
    "        # Apply the second convolutional layer and normalization, followed by ReLU\n",
    "        x = F.relu(self.bn2(self.conv2(x)))\n",
    "        \n",
    "        # Apply the third convolutional layer and normalization, followed by ReLU\n",
    "        x = F.relu(self.bn3(self.conv3(x)))\n",
    "        \n",
    "        # Apply the fourth convolutional layer and normalization, followed by ReLU\n",
    "        x = F.relu(self.bn4(self.conv4(x)))\n",
    "        \n",
    "        # Flatten the tensor for the fully connected layer\n",
    "        x = torch.flatten(x, 1)\n",
    "        \n",
    "        # Apply the first fully connected layer\n",
    "        x = self.fc1(x)\n",
    "        \n",
    "        # Apply the dropout layer\n",
    "        x = self.dropout(x)\n",
    "\n",
    "        #Apply the softmax layer\n",
    "        x = self.softmax(x)\n",
    "        \n",
    "        return x"
   ]
  },
  {
   "cell_type": "code",
   "execution_count": 8,
   "metadata": {},
   "outputs": [],
   "source": [
    "from Models.compare import *\n",
    "models_deep_music1 = load_deep_music(\"DeepMusic_subregion_1\", model_class=DeepMusicModel, outputs=[121])\n",
    "models_deep_music2 = load_deep_music(\"DeepMusic_subregion_2\", model_class=DeepMusicModel, outputs=[60, 61])"
   ]
  },
  {
   "cell_type": "code",
   "execution_count": 428,
   "metadata": {},
   "outputs": [],
   "source": [
    "def reconstruct_music_spectrum(segments, Q, N):\n",
    "    reconstructed_spectrum = np.zeros(N)\n",
    "    \n",
    "    for q, segment in enumerate(segments):\n",
    "        start_index = q * (N // Q)\n",
    "        end_index = (q + 1) * (N // Q) if q != Q - 1 else N\n",
    "\n",
    "        # Détacher le tenseur du graphe de calcul et le convertir en un tableau numpy\n",
    "        segment = segment.detach().numpy()\n",
    "        reconstructed_spectrum[start_index:end_index] = segment\n",
    "\n",
    "    return reconstructed_spectrum\n",
    "\n",
    "def deep_music_pred_1(X, nbSensors, nbSources):\n",
    "    # Générer la matrice R_hat_with_phase et la convertir en tenseur PyTorch\n",
    "    input_tensor = torch.tensor(generate_R_hat_with_phase(X), dtype=torch.float32).unsqueeze(0)\n",
    "\n",
    "    # Passer le modèle en mode évaluation et faire la prédiction\n",
    "    models_deep_music1[0].eval()\n",
    "    with torch.no_grad():\n",
    "        a = models_deep_music1[0](input_tensor)\n",
    "\n",
    "        # Détacher le tenseur du graphe de calcul et le convertir en tableau NumPy\n",
    "        a_numpy = a.detach().cpu().numpy()\n",
    "\n",
    "        # Estimer les angles à partir du spectre MUSIC\n",
    "        estimated_angles = estimate_angles(nbSources, a_numpy, np.linspace(-60, 60, 121))\n",
    "\n",
    "        return estimated_angles\n",
    "\n",
    "def deep_music_pred_2(X, nbSensors, nbSources):\n",
    "    input_tensor = torch.tensor(generate_R_hat_with_phase(X), dtype=torch.float32).unsqueeze(0)\n",
    "    a = []\n",
    "    models_deep_music2[0][0].eval()\n",
    "    models_deep_music2[0][1].eval()\n",
    "    with torch.no_grad():\n",
    "        q1 = models_deep_music2[0][0](input_tensor)\n",
    "        q2 = models_deep_music2[0][1](input_tensor)\n",
    "\n",
    "        # Détacher le tenseur du graphe de calcul et le convertir en tableau NumPy\n",
    "        q1_numpy = q1.detach().cpu().numpy()\n",
    "        q2_numpy = q2.detach().cpu().numpy()\n",
    "\n",
    "        a.append(q1)\n",
    "        a.append(q2)\n",
    "\n",
    "        # Estimer les angles à partir du spectre MUSIC\n",
    "        a = reconstruct_music_spectrum(a, 2, 121)\n",
    "        estimated_angles = estimate_angles(nbSources, a, np.linspace(-60, 60, 121))\n",
    "    \n",
    "    return estimate_angles(nbSources, a, np.linspace(-60, 60, 121))\n"
   ]
  },
  {
   "cell_type": "code",
   "execution_count": 429,
   "metadata": {},
   "outputs": [
    {
     "data": {
      "text/plain": [
       "DeepMusicModel(\n",
       "  (conv1): Conv2d(3, 256, kernel_size=(5, 5), stride=(1, 1), padding=(2, 2))\n",
       "  (bn1): BatchNorm2d(256, eps=1e-05, momentum=0.1, affine=True, track_running_stats=True)\n",
       "  (conv2): Conv2d(256, 256, kernel_size=(5, 5), stride=(1, 1), padding=(2, 2))\n",
       "  (bn2): BatchNorm2d(256, eps=1e-05, momentum=0.1, affine=True, track_running_stats=True)\n",
       "  (conv3): Conv2d(256, 256, kernel_size=(3, 3), stride=(1, 1), padding=(1, 1))\n",
       "  (bn3): BatchNorm2d(256, eps=1e-05, momentum=0.1, affine=True, track_running_stats=True)\n",
       "  (conv4): Conv2d(256, 256, kernel_size=(3, 3), stride=(1, 1), padding=(1, 1))\n",
       "  (bn4): BatchNorm2d(256, eps=1e-05, momentum=0.1, affine=True, track_running_stats=True)\n",
       "  (fc1): Linear(in_features=20736, out_features=60, bias=True)\n",
       "  (dropout): Dropout(p=0.5, inplace=False)\n",
       "  (softmax): Softmax(dim=1)\n",
       ")"
      ]
     },
     "execution_count": 429,
     "metadata": {},
     "output_type": "execute_result"
    }
   ],
   "source": [
    "models_deep_music2[0][0]"
   ]
  },
  {
   "cell_type": "code",
   "execution_count": 430,
   "metadata": {},
   "outputs": [],
   "source": [
    "# Algorithmes à importer\n",
    "from Algorithmes.beamforming import beamforming_method\n",
    "from Algorithmes.music import music_method"
   ]
  },
  {
   "cell_type": "code",
   "execution_count": 431,
   "metadata": {},
   "outputs": [],
   "source": [
    "# Appel des algorithmes à comparer. clé: nom de l'algorithme, valeur: fonction de l'algorithme\n",
    "# La fonction doit prendre en entrée les paramètres suivants: X, nbSensors, nbSources\n",
    "# La fonction doit donner en sortie une liste de la forme [angleEstime1, angleEstime2] rangée dans l'ordre croissant\n",
    "algorithms_to_compare = {\n",
    "    \"Beamforming\": beamforming_method,\n",
    "    \"DeepMusic_subregions_1\": deep_music_pred_1,\n",
    "    \"DeepMusic_subregions_2\": deep_music_pred_2\n",
    "}\n",
    "\n"
   ]
  },
  {
   "cell_type": "code",
   "execution_count": 432,
   "metadata": {},
   "outputs": [],
   "source": [
    "nb_iterations = 100 # Nombre d'itérations de Monte Carlo pour chaque algorithme\n",
    "nbSources = 2\n",
    "nbSensors = 9\n",
    "theta = [-20, 20] # Les deux angles d'origine des sources\n",
    "two_symmetrical_angles = True # Si True, on a deux angles symétriques par rapport à 0.\n",
    "# Favoriser de angles symmétriques : cela aura un effet similaire à doubler nb_itération sans doubler le temps de calcul"
   ]
  },
  {
   "cell_type": "code",
   "execution_count": 433,
   "metadata": {},
   "outputs": [],
   "source": [
    "# Valeurs neutres pour les 5 paramètres à slider:\n",
    "# nbTimePoints = 100\n",
    "# var_ratio = [1] -> les deux signaux ont la même variance\n",
    "# correlation = [0] -> les deux signaux sont indépendants\n",
    "# snr = 10 -> le bruit est 10 fois plus petit que le signal\n",
    "# perturbation_parameter_sd = 0 -> les capteurs sont parfaitement alignés"
   ]
  },
  {
   "cell_type": "code",
   "execution_count": 434,
   "metadata": {},
   "outputs": [],
   "source": [
    "# Exemples de ranges intéressantes pour les paramètres à slider:\n",
    "# var_ratio = [[1], [10], [50]]\n",
    "# correlation = [[0], [0.9], [0.95], [0.99]]\n",
    "# snr = [-10, -5, 0, 5, 10, 20]\n",
    "# perturbation_parameter_sd = [0, 0.01, 0.1]"
   ]
  },
  {
   "cell_type": "code",
   "execution_count": 435,
   "metadata": {},
   "outputs": [],
   "source": [
    "# IMPORTANT : le paramètre défini en temps que parameter_to_compare doit être sous forme d'une liste de valeurs. Exemples dans la cellule au dessus.\n",
    "# Pour var_ratio et correlation, faites attention à bien avoir une liste de liste de réels s'ils sont en parameter_to_compare, et une liste de réels sinon.\n",
    "nbTimePoints = 100\n",
    "var_ratio = [1]\n",
    "correlation = [0]\n",
    "snr = [-10, 0, 10, 20]\n",
    "perturbation_parameter_sd = 0"
   ]
  },
  {
   "cell_type": "code",
   "execution_count": 436,
   "metadata": {},
   "outputs": [],
   "source": [
    "# Les parameter_to_compare valides sont: \"snr\", \"nbTimePoints\", \"correlation\", \"var_ratio\" et \"perturbation_parameter_sd\"\n",
    "parameter_to_compare = \"snr\" # Paramètre à faire slider"
   ]
  },
  {
   "cell_type": "code",
   "execution_count": 437,
   "metadata": {},
   "outputs": [
    {
     "name": "stdout",
     "output_type": "stream",
     "text": [
      "Pour snr = -10 :\n",
      "-----\n",
      "Temps moyen d'estimation pour une itération de Beamforming: 0.0944 secondes\n",
      "Beamforming: 10 outliers removed (10.00%)\n",
      "Valeur pour Beamforming : 1.519064039320118\n",
      "-----\n",
      "Temps moyen d'estimation pour une itération de DeepMusic_subregions_1: 0.0050 secondes\n",
      "DeepMusic_subregions_1: 99 outliers removed (99.00%)\n",
      "Valeur pour DeepMusic_subregions_1 : 3.1622776601683795\n",
      "-----\n",
      "Temps moyen d'estimation pour une itération de DeepMusic_subregions_2: 0.0072 secondes\n",
      "DeepMusic_subregions_2: 98 outliers removed (98.00%)\n",
      "Valeur pour DeepMusic_subregions_2 : 3.427827300200522\n",
      "-----\n",
      "Valeur de la Cramer Rao Lower Bound : 0.00010035660340610062\n",
      "--------------------------------\n",
      "Pour snr = 0 :\n",
      "-----\n",
      "Temps moyen d'estimation pour une itération de Beamforming: 0.0938 secondes\n",
      "Beamforming: 0 outliers removed (0.00%)\n",
      "Valeur pour Beamforming : 0.3156738823532921\n",
      "-----\n",
      "Temps moyen d'estimation pour une itération de DeepMusic_subregions_1: 0.0048 secondes\n",
      "DeepMusic_subregions_1: 99 outliers removed (99.00%)\n",
      "Valeur pour DeepMusic_subregions_1 : 4.527692569068709\n",
      "-----\n",
      "Temps moyen d'estimation pour une itération de DeepMusic_subregions_2: 0.0071 secondes\n",
      "DeepMusic_subregions_2: 92 outliers removed (92.00%)\n",
      "Valeur pour DeepMusic_subregions_2 : 2.7613402542968153\n",
      "-----\n",
      "Valeur de la Cramer Rao Lower Bound : 1.0197559650253526e-05\n",
      "--------------------------------\n",
      "Pour snr = 10 :\n",
      "-----\n",
      "Temps moyen d'estimation pour une itération de Beamforming: 0.0939 secondes\n",
      "Beamforming: 0 outliers removed (0.00%)\n",
      "Valeur pour Beamforming : 0.09300537618869303\n",
      "-----\n",
      "Temps moyen d'estimation pour une itération de DeepMusic_subregions_1: 0.0048 secondes\n",
      "DeepMusic_subregions_1: 13 outliers removed (13.00%)\n",
      "Valeur pour DeepMusic_subregions_1 : 3.605551275463989\n",
      "-----\n",
      "Temps moyen d'estimation pour une itération de DeepMusic_subregions_2: 0.0070 secondes\n",
      "DeepMusic_subregions_2: 99 outliers removed (99.00%)\n",
      "Valeur pour DeepMusic_subregions_2 : 2.1213203435596424\n",
      "-----\n",
      "Valeur de la Cramer Rao Lower Bound : 1.0081729004604423e-06\n",
      "--------------------------------\n",
      "Pour snr = 20 :\n",
      "-----\n",
      "Temps moyen d'estimation pour une itération de Beamforming: 0.0939 secondes\n",
      "Beamforming: 0 outliers removed (0.00%)\n",
      "Valeur pour Beamforming : 0.029999999999999954\n",
      "-----\n",
      "Temps moyen d'estimation pour une itération de DeepMusic_subregions_1: 0.0048 secondes\n",
      "DeepMusic_subregions_1: 2 outliers removed (2.00%)\n",
      "Valeur pour DeepMusic_subregions_1 : 3.605551275463989\n",
      "-----\n",
      "Temps moyen d'estimation pour une itération de DeepMusic_subregions_2: 0.0069 secondes\n",
      "DeepMusic_subregions_2: 100 outliers removed (100.00%)\n",
      "-----\n",
      "Valeur de la Cramer Rao Lower Bound : 1.029993758894938e-07\n",
      "--------------------------------\n"
     ]
    },
    {
     "data": {
      "image/png": "[encoded data removed]",
      "text/plain": [
       "<Figure size 1000x600 with 1 Axes>"
      ]
     },
     "metadata": {},
     "output_type": "display_data"
    }
   ],
   "source": [
    "import torch.nn.functional as F\n",
    "\n",
    "run_comparison(parameter_to_compare, algorithms_to_compare, nb_iterations, nbSources, nbSensors, theta, nbTimePoints, snr, correlation, var_ratio, perturbation_parameter_sd, two_symmetrical_angles)"
   ]
  },
  {
   "cell_type": "code",
   "execution_count": 485,
   "metadata": {},
   "outputs": [
    {
     "name": "stdout",
     "output_type": "stream",
     "text": [
      "DeepMusic_subregions_1 : [-38. -36.] DeepMusic_subregions_2 :  [-15.  15.]\n"
     ]
    }
   ],
   "source": [
    "from Signal_generator.generate_signal import generate_X_matrix\n",
    "\n",
    "nbSources = 2 # Nombre de sources\n",
    "nbSensors = 9 # Nombre de capteurs\n",
    "nbTimePoints = 100 # Nombre de points temporels\n",
    "signal_noise_ratio = 10 # Rapport signal sur bruit en décibels. Si 'False', cela revient à une absence totale de bruit.\n",
    "theta1 = -45 # Angle entre la perpendiculaire à la ligne de capteurs, et la source 1\n",
    "theta2 = 45 # Angle entre la perpendiculaire à la ligne de capteurs, et la source 2\n",
    "var_ratio = [1] # Liste qui donne le rapport entre la variance du signal 1 et celui des autres sources (ex: [2, 3] signifie que la source 2 a une variance 2 fois plus grande que la source 1, et la source 3 a une variance 3 fois plus grande que la source 1)\n",
    "correlation_List = [0] # Liste des corrélations. Il y a une corrélation nécéssaire pour chaque paire distincte de sources différentes: 0 pour 1 source, 1 pour 2 sources, 3 pour 3 sources, 6 pour 4 sources etc...\n",
    "# Ordre de remplisage de la correlation_List: de gauche à droite et ligne par ligne, moitié haut-droite de la matrice uniquement, puis symétrie de ces valeurs pour la moitié bas-gauche\n",
    "perturbation_parameter_sd = 0 # Écart-type de la distribution normale qui génère les erreurs de calibration des capteurs\n",
    "\n",
    "thetaList = [theta1, theta2]\n",
    "X = generate_X_matrix(nbSources, nbSensors, nbTimePoints, thetaList, var_ratio, correlation_List, signal_noise_ratio, perturbation_parameter_sd)\n",
    "print(\"DeepMusic_subregions_1 :\", deep_music_pred_1(X, nbSensors, nbSources), \"DeepMusic_subregions_2 : \", deep_music_pred_2(X, nbSensors, nbSources))"
   ]
  },
  {
   "cell_type": "code",
   "execution_count": 486,
   "metadata": {},
   "outputs": [
    {
     "name": "stdout",
     "output_type": "stream",
     "text": [
      "DeepMusic_subregions_1 : [-36.  55.] DeepMusic_subregions_2 :  [-15.  15.]\n",
      "DeepMusic_subregions_1 : [-36.  55.] DeepMusic_subregions_2 :  [-15.  15.]\n",
      "DeepMusic_subregions_1 : [-36.  55.] DeepMusic_subregions_2 :  [-15.  15.]\n",
      "DeepMusic_subregions_1 : [-36.  55.] DeepMusic_subregions_2 :  [-15.  15.]\n",
      "DeepMusic_subregions_1 : [-36.  55.] DeepMusic_subregions_2 :  [-15.  15.]\n",
      "DeepMusic_subregions_1 : [-38.  55.] DeepMusic_subregions_2 :  [-15.  15.]\n",
      "DeepMusic_subregions_1 : [-36.  55.] DeepMusic_subregions_2 :  [-15.  15.]\n",
      "DeepMusic_subregions_1 : [-36.  55.] DeepMusic_subregions_2 :  [-15.  15.]\n",
      "DeepMusic_subregions_1 : [-36.  55.] DeepMusic_subregions_2 :  [-15.  15.]\n",
      "DeepMusic_subregions_1 : [-36.  55.] DeepMusic_subregions_2 :  [-15.  15.]\n",
      "DeepMusic_subregions_1 : [-38.  55.] DeepMusic_subregions_2 :  [-15.  15.]\n",
      "DeepMusic_subregions_1 : [-36.  55.] DeepMusic_subregions_2 :  [-12.  15.]\n",
      "DeepMusic_subregions_1 : [-36.  55.] DeepMusic_subregions_2 :  [-15.  15.]\n",
      "DeepMusic_subregions_1 : [ 4. 54.] DeepMusic_subregions_2 :  [-15.  15.]\n",
      "DeepMusic_subregions_1 : [-36.  55.] DeepMusic_subregions_2 :  [-15.  15.]\n",
      "DeepMusic_subregions_1 : [-36.  55.] DeepMusic_subregions_2 :  [-15.  15.]\n",
      "DeepMusic_subregions_1 : [-36.  55.] DeepMusic_subregions_2 :  [-15.  15.]\n",
      "DeepMusic_subregions_1 : [-36.  55.] DeepMusic_subregions_2 :  [-15.  15.]\n",
      "DeepMusic_subregions_1 : [-36.  55.] DeepMusic_subregions_2 :  [-15.  15.]\n",
      "DeepMusic_subregions_1 : [-36.  54.] DeepMusic_subregions_2 :  [-15.  15.]\n"
     ]
    }
   ],
   "source": [
    "for i in range(20):\n",
    "    print(\"DeepMusic_subregions_1 :\", deep_music_pred_1(generate_X_matrix(nbSources, nbSensors, nbTimePoints, thetaList, var_ratio, correlation_List, signal_noise_ratio, perturbation_parameter_sd), nbSensors, nbSources), \"DeepMusic_subregions_2 : \", deep_music_pred_2(generate_X_matrix(nbSources, nbSensors, nbTimePoints, thetaList, var_ratio, correlation_List, signal_noise_ratio, perturbation_parameter_sd), nbSensors, nbSources))"
   ]
  },
  {
   "cell_type": "code",
   "execution_count": null,
   "metadata": {},
   "outputs": [],
   "source": []
  }
 ],
 "metadata": {
  "kernelspec": {
   "display_name": "Python 3",
   "language": "python",
   "name": "python3"
  },
  "language_info": {
   "codemirror_mode": {
    "name": "ipython",
    "version": 3
   },
   "file_extension": ".py",
   "mimetype": "text/x-python",
   "name": "python",
   "nbconvert_exporter": "python",
   "pygments_lexer": "ipython3",
   "version": "3.11.4"
  }
 },
 "nbformat": 4,
 "nbformat_minor": 2
}
